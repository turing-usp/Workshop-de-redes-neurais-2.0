{
 "cells": [
  {
   "cell_type": "markdown",
   "metadata": {},
   "source": [
    "# Workshop Redes Neurais\n",
    "## Turing USP"
   ]
  },
  {
   "cell_type": "markdown",
   "metadata": {},
   "source": [
    "![Pytorch logo](https://upload.wikimedia.org/wikipedia/commons/9/96/Pytorch_logo.png)"
   ]
  },
  {
   "cell_type": "code",
   "execution_count": 2,
   "metadata": {},
   "outputs": [
    {
     "name": "stdout",
     "output_type": "stream",
     "text": [
      "Requirement already satisfied: torch in /home/nelson/miniconda3/envs/py38/lib/python3.8/site-packages (1.10.0)\n",
      "Requirement already satisfied: torchvision in /home/nelson/miniconda3/envs/py38/lib/python3.8/site-packages (0.11.1)\n",
      "Requirement already satisfied: typing-extensions in /home/nelson/miniconda3/envs/py38/lib/python3.8/site-packages (from torch) (3.10.0.2)\n",
      "Requirement already satisfied: numpy in /home/nelson/miniconda3/envs/py38/lib/python3.8/site-packages (from torchvision) (1.21.3)\n",
      "Requirement already satisfied: pillow!=8.3.0,>=5.3.0 in /home/nelson/miniconda3/envs/py38/lib/python3.8/site-packages (from torchvision) (8.4.0)\n"
     ]
    }
   ],
   "source": [
    "!pip install torch torchvision # Se você não os tiver no seu computador, pode levar um tempo"
   ]
  },
  {
   "cell_type": "markdown",
   "metadata": {},
   "source": [
    "## 🔥 Básicos de Pytorch 🔥\n",
    "\n",
    "### Tensores\n",
    "*Os blocos de construção das redes neurais*\n",
    "\n",
    "Primeiro vamos ver alguns análogos entre **numpy** e **Pytorch**\n",
    "\n",
    "#### Matrizes\n",
    " - Em Pytorch, matrizes (*arrays*) são chamados de tensores.\n",
    " - Uma matriz $3\\times3$, por exemplo é um tensor $3\\times3$\n",
    " - Podemos criar um array numpy com o método `np.array()`\n",
    " - Podemos pegar o tipo do array com `type()`\n",
    " - Podemos pegar o formato do *array* com `np.shape()`. Linha $\\times$ Coluna"
   ]
  },
  {
   "cell_type": "code",
   "execution_count": 2,
   "metadata": {},
   "outputs": [
    {
     "name": "stdout",
     "output_type": "stream",
     "text": [
      "Array do tipo: <class 'numpy.ndarray'>\n",
      "Array de formato: (2, 3)\n",
      "[[1 2 3]\n",
      " [4 5 6]]\n"
     ]
    }
   ],
   "source": [
    "import numpy as np\n",
    "import math\n",
    "\n",
    "array = [[1,2,3],[4,5,6]]\n",
    "primeiro_array = np.array(array) # array 2x3\n",
    "print(f\"Array do tipo: {type(primeiro_array)}\")\n",
    "print(f\"Array de formato: {np.shape(primeiro_array)}\")\n",
    "print(primeiro_array)"
   ]
  },
  {
   "cell_type": "markdown",
   "metadata": {},
   "source": [
    "- Criamos um tensor com o método `torch.Tensor()`\n",
    "- `tensor.type`: tipo do *array*, nesse caso um tensor\n",
    "- `tensor.shape`: formato do *array*. Linha $\\times$ Coluna \n",
    "- `tensor.device` : por onde este tensor está sendo processado"
   ]
  },
  {
   "cell_type": "code",
   "execution_count": 5,
   "metadata": {},
   "outputs": [
    {
     "name": "stdout",
     "output_type": "stream",
     "text": [
      "Array do tipo: <built-in method type of Tensor object at 0x7f7be9002040>\n",
      "Array de formato: torch.Size([2, 3])\n",
      "Tensor sendo armazenado em cpu\n",
      "tensor([[1., 2., 3.],\n",
      "        [4., 5., 6.]])\n"
     ]
    }
   ],
   "source": [
    "import torch\n",
    "\n",
    "tensor = torch.Tensor(array)\n",
    "print(f\"Array do tipo: {tensor.type}\")\n",
    "print(f\"Array de formato: {tensor.shape}\")\n",
    "print(f\"Tensor sendo armazenado em {tensor.device}\")\n",
    "print(tensor)"
   ]
  },
  {
   "cell_type": "markdown",
   "metadata": {},
   "source": [
    "Podemos fazer a alocação de *arrays* de maneira análoga nas duas linguagens:\n",
    " - `np.ones()` = `torch.ones()`\n",
    " - `np.random.rand()` = `torch.rand()`"
   ]
  },
  {
   "cell_type": "code",
   "execution_count": 5,
   "metadata": {},
   "outputs": [
    {
     "name": "stdout",
     "output_type": "stream",
     "text": [
      "Numpy:\n",
      " [[1. 1. 1.]\n",
      " [1. 1. 1.]]\n",
      "\n",
      "tensor([[1., 1., 1.],\n",
      "        [1., 1., 1.]])\n"
     ]
    }
   ],
   "source": [
    "print(f\"Numpy:\\n {np.ones((2,3))}\\n\")\n",
    "\n",
    "print(torch.ones((2,3)))"
   ]
  },
  {
   "cell_type": "code",
   "execution_count": 6,
   "metadata": {},
   "outputs": [
    {
     "name": "stdout",
     "output_type": "stream",
     "text": [
      "Numpy:\n",
      " [[0.08671408 0.49934561 0.30959953]\n",
      " [0.82502813 0.20475478 0.19673553]]\n",
      "\n",
      "tensor([[0.6358, 0.7986, 0.4840],\n",
      "        [0.8685, 0.8681, 0.8978]])\n"
     ]
    }
   ],
   "source": [
    "print(f\"Numpy:\\n {np.random.rand(2,3)}\\n\")\n",
    "\n",
    "print(torch.rand(2,3))"
   ]
  },
  {
   "cell_type": "markdown",
   "metadata": {},
   "source": [
    "#### Convertendo de numpy para torch e vice-versa\n",
    "\n",
    "Em muitos pontos **numpy** e **pytorch** são bem parecidos em suas estruturas, e muitas das vezes podemos utilizar os dois em conjunto. Assim normalmente convertemos resultados de redes neurais - que são tensores - para **arrays** de **numpy**.\n",
    "\n",
    "Os métodos para fazer a conversão entre tensores e arrays numpy:\n",
    " - `torch.from_numpy()`: de um array numpy para um tensor\n",
    " - `tensor.numpy()`: de um tensor para um array numpy"
   ]
  },
  {
   "cell_type": "code",
   "execution_count": 7,
   "metadata": {},
   "outputs": [
    {
     "name": "stdout",
     "output_type": "stream",
     "text": [
      "<class 'numpy.ndarray'> \n",
      " [[0.63234495 0.46604938]\n",
      " [0.19246808 0.4209175 ]] \n",
      "\n",
      "tensor([[0.6323, 0.4660],\n",
      "        [0.1925, 0.4209]], dtype=torch.float64) \n",
      "\n",
      "<class 'numpy.ndarray'> \n",
      " [[0.63234495 0.46604938]\n",
      " [0.19246808 0.4209175 ]]\n"
     ]
    }
   ],
   "source": [
    "array = np.random.rand(2,2)\n",
    "print(f\"{type(array)} \\n {array} \\n\")\n",
    "\n",
    "de_numpy_para_tensor = torch.from_numpy(array)\n",
    "print(f\"{de_numpy_para_tensor} \\n\")\n",
    "\n",
    "tensor = de_numpy_para_tensor\n",
    "de_tensor_para_numpy = tensor.numpy()\n",
    "print(f\"{type(de_tensor_para_numpy)} \\n {de_tensor_para_numpy}\")"
   ]
  },
  {
   "cell_type": "markdown",
   "metadata": {},
   "source": [
    "Quando fazemos estas conversões também podemos fazer um *typecast* (mudança do tipo) das variáveis, isso pode ser útil já que o Pytorch faz uma série de computações de baixo nível, o qual o tipo primitivo das variáveis precisa ser bem especificado e definido, para isso podemos usar o método `tensor.type(torch.TipoDeTensor)`, alguns tipo de tensores nativos do Pytorch são:\n",
    "  - `torch.FloatTensor` - pontos flutuantes de 32-bits\n",
    "  - `torch.DoubleTensor` - pontos flutuantes de 64-bits\n",
    "  - `torch.IntTensor` - números inteiros de 32-bits\n",
    "  - `torch.LongTensor` - números inteiros de 64-bits\n",
    "É muito comum encontrarmos *bugs* causados pela utilização errada de algum tipo primitivo, você pode ler sobre todos eles na [documentação do Pytorch](https://pytorch.org/docs/stable/tensors.html)\n"
   ]
  },
  {
   "cell_type": "code",
   "execution_count": 8,
   "metadata": {},
   "outputs": [
    {
     "name": "stdout",
     "output_type": "stream",
     "text": [
      "<class 'torch.Tensor'> \n",
      " tensor([[ 1., 10.],\n",
      "        [ 2., 20.]])\n",
      "\n",
      "<class 'torch.Tensor'> \n",
      " tensor([[ 1, 10],\n",
      "        [ 2, 20]])\n"
     ]
    }
   ],
   "source": [
    "array = np.array([[1,10],[2,20]])\n",
    "\n",
    "# Transformar em um tensor de Floats:\n",
    "tensor_float = torch.from_numpy(array).type(torch.FloatTensor)\n",
    "print(f\"{type(tensor_float)} \\n {tensor_float}\\n\")\n",
    "\n",
    "# Transformar em um tensor de Longs:\n",
    "tensor_long = torch.from_numpy(array).type(torch.LongTensor)\n",
    "print(f\"{type(tensor_long)} \\n {tensor_long}\")"
   ]
  },
  {
   "cell_type": "markdown",
   "metadata": {},
   "source": [
    "#### Operações com tensores\n",
    "Existem mais de 100 operações implementadas para tensores, incluindo aritmética, álgebra linear, manipulação de matrizes etc. É interessante que você as cheque [aqui](https://pytorch.org/docs/stable/torch.html).\n",
    "\n",
    "O mais interessante, inclusive algo que possibilitou a utilização em massa de redes neurais, é o processamento dessas operações em GPU's (que geralmente possuem uma maior velocidade do que CPU's).\n",
    "\n",
    "Por padrão tensores são criados na CPU. Nós podemos explicitamente mover para GPU's utilizando o método `.to` (isso, claro, se você pode usar uma GPU)."
   ]
  },
  {
   "cell_type": "code",
   "execution_count": 9,
   "metadata": {},
   "outputs": [
    {
     "name": "stdout",
     "output_type": "stream",
     "text": [
      "Para esse notebook podemos usar a GPU? False\n"
     ]
    }
   ],
   "source": [
    "tensor = torch.ones(3,3)\n",
    "print(f\"Para esse notebook podemos usar a GPU? {torch.cuda.is_available()}\")\n",
    "\n",
    "# Move nosso tensor para uma GPU se possível\n",
    "if torch.cuda.is_available():\n",
    "    tensor = tensor.to('cuda')"
   ]
  },
  {
   "cell_type": "markdown",
   "metadata": {},
   "source": [
    "Operações de splicing padrões:"
   ]
  },
  {
   "cell_type": "code",
   "execution_count": 10,
   "metadata": {},
   "outputs": [
    {
     "name": "stdout",
     "output_type": "stream",
     "text": [
      "Primeira linha:  tensor([1., 1., 1.])\n",
      "Primeira coluna:  tensor([1., 1., 1.])\n",
      "Última coluna: tensor([1., 1., 1.])\n",
      "tensor([[1., 0., 1.],\n",
      "        [1., 0., 1.],\n",
      "        [1., 0., 1.]])\n",
      "torch.Size([9]): tensor([1., 0., 1., 1., 0., 1., 1., 0., 1.]) \n",
      "\n"
     ]
    }
   ],
   "source": [
    "print('Primeira linha: ', tensor[0])\n",
    "\n",
    "print('Primeira coluna: ', tensor[:, 0])\n",
    "\n",
    "print('Última coluna:', tensor[..., -1])\n",
    "\n",
    "tensor[:,1] = 0 # Colocar a segunda coluna como 0's\n",
    "print(tensor)\n",
    "\n",
    "print(f\"{tensor.view(9).shape}: {tensor.view(9)} \\n\") # Podemos mudar o formato do tensor"
   ]
  },
  {
   "cell_type": "markdown",
   "metadata": {},
   "source": [
    "\n",
    "Operações aritméticas"
   ]
  },
  {
   "cell_type": "code",
   "execution_count": 11,
   "metadata": {},
   "outputs": [
    {
     "name": "stdout",
     "output_type": "stream",
     "text": [
      "Adição: \n",
      "tensor([[2., 2., 2.],\n",
      "        [2., 2., 2.],\n",
      "        [2., 2., 2.]]) \n",
      "\n",
      "Subtração: \n",
      "tensor([[0., 0., 0.],\n",
      "        [0., 0., 0.],\n",
      "        [0., 0., 0.]]) \n",
      "\n",
      "Multiplicação elemento-a-elemento: \n",
      "tensor([[1., 1., 1.],\n",
      "        [1., 1., 1.],\n",
      "        [1., 1., 1.]]) \n",
      "\n",
      "Divisão elemento-a-elemento: \n",
      "tensor([[1., 1., 1.],\n",
      "        [1., 1., 1.],\n",
      "        [1., 1., 1.]]) \n",
      "\n",
      "Multiplicação de matriz:\n",
      "tensor([[3., 3., 3.],\n",
      "        [3., 3., 3.],\n",
      "        [3., 3., 3.]])\n",
      " \n"
     ]
    }
   ],
   "source": [
    "tensor = torch.ones(3,3)\n",
    "\n",
    "print(f\"Adição: \\n{torch.add(tensor, tensor)} \\n\")\n",
    "\n",
    "print(f\"Subtração: \\n{torch.sub(tensor, tensor)} \\n\")\n",
    "\n",
    "print(f\"Multiplicação elemento-a-elemento: \\n{torch.mul(tensor, tensor)} \\n\")\n",
    "\n",
    "print(f\"Divisão elemento-a-elemento: \\n{torch.div(tensor, tensor)} \\n\")\n",
    "\n",
    "print(f\"Multiplicação de matriz:\\n{torch.matmul(tensor, tensor.T)}\\n \")"
   ]
  },
  {
   "cell_type": "markdown",
   "metadata": {},
   "source": [
    "Operações com só um tensor "
   ]
  },
  {
   "cell_type": "code",
   "execution_count": 12,
   "metadata": {},
   "outputs": [
    {
     "name": "stdout",
     "output_type": "stream",
     "text": [
      "Soma: 15.0\n",
      "\n",
      "Média: 3.0 \n",
      "\n",
      "Desvio padrão: 1.5811388492584229 \n",
      "\n"
     ]
    }
   ],
   "source": [
    "tensor = torch.Tensor([1,2,3,4,5])\n",
    "\n",
    "print(f\"Soma: {tensor.sum()}\\n\")\n",
    "\n",
    "print(f\"Média: {tensor.mean()} \\n\")\n",
    "\n",
    "print(f\"Desvio padrão: {tensor.std()} \\n\")"
   ]
  },
  {
   "cell_type": "markdown",
   "metadata": {},
   "source": [
    "### Autograd e back propagation\n",
    "*Diferenciação automática e back prop com `torch.autograd`*"
   ]
  },
  {
   "cell_type": "markdown",
   "metadata": {},
   "source": [
    "Quando treinamos redes neurais, o algoritmo mais usado é a back propagation. Nesse algoritmo, parâmetros (os *weights* do modelo) são ajustados de acordo com o gradiente da função de perda em respeito com o parâmetro dado.\n",
    "\n",
    "Para computar esses gradientes, o PyTorch tem uma implementação de diferenciação (o cálculo de derivadas) chamado `torch.autograd`. Ele faz computações automáticas de gradientes para qualquer *computational graph*.\n",
    "\n",
    "Considere a rede neural mais simples de uma camada, com entrada `x`, parâmetros `w` e `b` e alguma função de perda. Ela pode ser definida da seguinte maneira:"
   ]
  },
  {
   "cell_type": "markdown",
   "metadata": {},
   "source": [
    "![Diagrama do computational graph](https://i.imgur.com/x6DBPFQ.png)"
   ]
  },
  {
   "cell_type": "code",
   "execution_count": 13,
   "metadata": {},
   "outputs": [],
   "source": [
    "x = torch.ones(5)  # [1 1 1 1 1] vetor de entrada\n",
    "\n",
    "y = torch.ones(3)*2  # [2 2 2] valor esperado\n",
    "\n",
    "w = torch.full((5, 3), 3.0, requires_grad=True) # [ 3 3 3 ; 3 3 3 ; 3 3 3 ; 3 3 3 ; 3 3 3] matriz de pesos\n",
    "\n",
    "b = torch.ones(3, requires_grad=True) # [1 1 1] matriz de bias\n",
    "\n",
    "z = torch.matmul(x, w) + b # [16 16 16] \n",
    "\n",
    "loss = torch.sum(torch.pow(z,y)) # [768] função de perda"
   ]
  },
  {
   "cell_type": "markdown",
   "metadata": {},
   "source": [
    "Agora podemos computar os gradientes seguindo esse diagrama:"
   ]
  },
  {
   "cell_type": "markdown",
   "metadata": {},
   "source": [
    "![diagrama para calcular os gradiantes dos parâmetros](https://i.imgur.com/fSoQQBC.png)"
   ]
  },
  {
   "cell_type": "markdown",
   "metadata": {},
   "source": [
    "Para otimizar os pesos (weights) dos parâmetros da rede neural, precisamos computar as derivadas da nossa \"função de perda\" em respeito aos parâmetros. Precisamente $\\frac{\\partial \\, \\mathrm{loss}}{\\partial w}$ e $\\frac{\\partial \\, \\mathrm{loss}}{\\partial b}$ para valores fixos de `x` e `y`. Para computar as derivadas, utilizamos `loss.backward()` os valores ficam armazenados em `w.grad` e `b.grad`."
   ]
  },
  {
   "cell_type": "code",
   "execution_count": 14,
   "metadata": {},
   "outputs": [
    {
     "name": "stdout",
     "output_type": "stream",
     "text": [
      "tensor([[32., 32., 32.],\n",
      "        [32., 32., 32.],\n",
      "        [32., 32., 32.],\n",
      "        [32., 32., 32.],\n",
      "        [32., 32., 32.]])\n",
      "tensor([32., 32., 32.])\n"
     ]
    }
   ],
   "source": [
    "loss.backward()\n",
    "print(w.grad)\n",
    "print(b.grad)"
   ]
  },
  {
   "cell_type": "markdown",
   "metadata": {},
   "source": [
    "Por padrão, todos os tensores com parâmetro `requires_grad=True` estão monitorando seu histórico de funções computadas para calcular seu gradiente. Porém em alguns casos isso pode não ser necessário, isso pode acontecer em casos como:\n",
    " - Para marcar alguns parâmetros como **frozen parameters**. Algo comum quando você quer aperfeiçoar uma rede pré-treinada\n",
    " - Para **acelearar** as computações quando você está apenas passando pelo passo de **forward**, no qual computações com tensores que não monitoram gradientes são mais úteis.\n",
    "\n",
    "Podemos para de monitorar os gradientes colocando nosso código em um bloco com  `with torch.no_grad()`"
   ]
  },
  {
   "cell_type": "code",
   "execution_count": 15,
   "metadata": {},
   "outputs": [
    {
     "name": "stdout",
     "output_type": "stream",
     "text": [
      "True\n",
      "False\n"
     ]
    }
   ],
   "source": [
    "# Monitora os gradientes\n",
    "z = torch.matmul(x, w) + b\n",
    "print(z.requires_grad)\n",
    "\n",
    "# Não monitora os gradientes\n",
    "with torch.no_grad():\n",
    "    z = torch.matmul(x, w) + b\n",
    "print(z.requires_grad)"
   ]
  },
  {
   "cell_type": "markdown",
   "metadata": {},
   "source": [
    "O mesmo resultado com o método `detach()`"
   ]
  },
  {
   "cell_type": "code",
   "execution_count": 16,
   "metadata": {},
   "outputs": [
    {
     "name": "stdout",
     "output_type": "stream",
     "text": [
      "False\n"
     ]
    }
   ],
   "source": [
    "z = torch.matmul(x, w) + b\n",
    "z_det = z.detach()\n",
    "print(z_det.requires_grad)"
   ]
  },
  {
   "cell_type": "markdown",
   "metadata": {},
   "source": [
    "### Datasets e Dataloader\n",
    "*Um meio de padronizar e otimizar dados para as redes neurais no PyTorch*\n",
    "\n",
    "O PyTorch fornece dois \"tipos primitivos\" (é como se fossem ints, floats, bools) para otimizar e padronizar datasets e depois dizer para a rede neural como ela deve ler esse dataset, eles são o `torch.utils.data.Dataset` e o `torch.utils.data.DataLoader`.\n",
    "\n",
    "O PyTorch também nos fornece alguns datasets já prontos, o [Fashion-MINIST](https://research.zalando.com/project/fashion_mnist/fashion_mnist/) é um deles, ele é um dataset com imagens de roupas em 28x28 com 60.000 imagens de treino e 10.000 de teste. Vamos usar ele tanto nesse exemplo quanto no exemplo de redes neurais.\n",
    "\n",
    "Mesmo que o dataset já esteja montado, vamos passar quais seriam os passos para criar um dataset do zero. Vale dizer que nem sempre precisamos realizar esses passos, muitas vezes podemos passar nossos dados de maneira \"cru\" como tensores, mas é interessante sabê-los."
   ]
  },
  {
   "cell_type": "code",
   "execution_count": 17,
   "metadata": {},
   "outputs": [],
   "source": [
    "import torch\n",
    "from torch.utils.data import Dataset # estrutura de dataset de tensores \n",
    "from torchvision import datasets # datasets já existentes no pytorch\n",
    "from torchvision.transforms import ToTensor # para transformar as imagens em tensores\n",
    "import matplotlib.pyplot as plt "
   ]
  },
  {
   "cell_type": "code",
   "execution_count": 18,
   "metadata": {},
   "outputs": [],
   "source": [
    "training_data = datasets.FashionMNIST(\n",
    "    root = 'data', # Onde vai armazenar o dataset\n",
    "    train = True, # Especifica que é o dataset de treino\n",
    "    download= True, # baixa o dataset da internet\n",
    "    transform= ToTensor() # transforma em tensor\n",
    ")\n",
    "\n",
    "test_data = datasets.FashionMNIST(\n",
    "    root = 'data', \n",
    "    train = False, \n",
    "    download= True, \n",
    "    transform= ToTensor() \n",
    ")"
   ]
  },
  {
   "cell_type": "markdown",
   "metadata": {},
   "source": [
    "Podemos dar uma olhada em como são as imagens do dataset:"
   ]
  },
  {
   "cell_type": "code",
   "execution_count": 90,
   "metadata": {},
   "outputs": [
    {
     "data": {
      "image/png": "[encoded data removed]",
      "text/plain": [
       "<Figure size 576x576 with 9 Axes>"
      ]
     },
     "metadata": {
      "needs_background": "light"
     },
     "output_type": "display_data"
    }
   ],
   "source": [
    "labels_map = {\n",
    "    0: \"T-Shirt\",\n",
    "    1: \"Trouser\",\n",
    "    2: \"Pullover\",\n",
    "    3: \"Dress\",\n",
    "    4: \"Coat\",\n",
    "    5: \"Sandal\",\n",
    "    6: \"Shirt\",\n",
    "    7: \"Sneaker\",\n",
    "    8: \"Bag\",\n",
    "    9: \"Ankle Boot\",\n",
    "}\n",
    "figure = plt.figure(figsize=(8, 8))\n",
    "cols, rows = 3, 3\n",
    "for i in range(1, cols * rows + 1):\n",
    "    sample_idx = torch.randint(len(training_data), size=(1,)).item()\n",
    "    img, label = training_data[sample_idx]\n",
    "    figure.add_subplot(rows, cols, i)\n",
    "    plt.title(labels_map[label])\n",
    "    plt.axis(\"off\")\n",
    "    plt.imshow(img.squeeze(), cmap=\"gray\")\n",
    "plt.show()"
   ]
  },
  {
   "cell_type": "markdown",
   "metadata": {},
   "source": [
    "#### Preparando seu dataset para o treino com o Dataloader\n",
    "\n",
    "Quando você treinar seu modelo com seus dados do dataset, você vai querer passá-los como _minibatches_ (quantos dados serão alimentados antes de treinar o modelo), e também embaralhar esses minibathcs a cada _epoch_ (uma passada por todo o dataset) para que o modelo não veja informação na sequência dos dados. O **Dataloader** é a ferramenta do PyTorch que nós possibilita fazer isso de maneira facilitada."
   ]
  },
  {
   "cell_type": "code",
   "execution_count": 20,
   "metadata": {},
   "outputs": [],
   "source": [
    "from torch.utils.data import DataLoader\n",
    "\n",
    "train_dataloader = DataLoader(training_data, batch_size=64, shuffle=True) # Aqui definimos o tamanho do batch como 64 e que embaralhe a amostra\n",
    "test_dataloader = DataLoader(test_data, batch_size=64, shuffle=True)"
   ]
  },
  {
   "cell_type": "code",
   "execution_count": 21,
   "metadata": {},
   "outputs": [
    {
     "name": "stdout",
     "output_type": "stream",
     "text": [
      "Formato do batch das features: torch.Size([64, 1, 28, 28])\n",
      "Formato do batch das labels: torch.Size([64])\n"
     ]
    },
    {
     "data": {
      "image/png": "[encoded data removed]",
      "text/plain": [
       "<Figure size 432x288 with 1 Axes>"
      ]
     },
     "metadata": {
      "needs_background": "light"
     },
     "output_type": "display_data"
    },
    {
     "name": "stdout",
     "output_type": "stream",
     "text": [
      "Label: T-Shirt\n"
     ]
    }
   ],
   "source": [
    "# Podemos visualizar uma batch do nosso dataloader\n",
    "train_features, train_labels = next(iter(train_dataloader)) # O dataloader é um objeto iterável\n",
    "print(f\"Formato do batch das features: {train_features.size()}\") # repare como são 64 imagens de 28x28 pixels\n",
    "print(f\"Formato do batch das labels: {train_labels.size()}\") # repare como são 64 labels\n",
    "img = train_features[0].squeeze() # remove todas as dimensões com valores 1\n",
    "label = train_labels[0]\n",
    "plt.imshow(img, cmap=\"gray\")\n",
    "plt.show()\n",
    "print(f\"Label: {labels_map[label.item()]}\")"
   ]
  },
  {
   "cell_type": "markdown",
   "metadata": {},
   "source": [
    "#### Criando um dataset customizado\n",
    "Como tinha dito antes, normalmente não teremos um dataset bonitinho assim na natureza, e normalmente você terá que o fazer. Muitas vezes, pode-se usar apenas tensores, sem criar o dataset e o dataloader, porém essa geralmente não é a opção mais padronizada nem mais optimizada para imagens e textos. Segue um exemplo de como construir seu próprio dataset para imagens:\n",
    "\n",
    "Toda classe customizada de dataset deve conter 3 métodos: \n",
    "- `__init__` : Método que é executado quando você instância (cria/chama) o dataset. Normalmente você vai passar o endereço dos seus dados, de suas categorias e se precisar, alguma transformação neles.\n",
    "- `__len__` : Serve para falar quantas amostras existem no seu dataset\n",
    "- `__getitem__` : Serve quando você tem que pegar um elemento do seu dataset dado um índice `idx`. Vai identificar o endereço do elemento no disco e converter para um tensor e aplicar as transformações, caso você as tenha solicitado. \n"
   ]
  },
  {
   "cell_type": "code",
   "execution_count": 22,
   "metadata": {},
   "outputs": [],
   "source": [
    "import os\n",
    "import pandas as pd\n",
    "from torchvision.io import read_image\n",
    "\n",
    "class CustomImageDataset(Dataset):\n",
    "    def __init__(self, annotations_file, img_dir, transform=None, target_transform=None):\n",
    "        \"\"\"\n",
    "        Parâmetros\n",
    "        ----------\n",
    "            annotations_file : str\n",
    "                endereço do CSV das labels das imagens\n",
    "            img_dir : str\n",
    "                endereço do diretório onde estão as imagens\n",
    "            transform : function\n",
    "                funções de transformação que podem ser aplicadas nas imagens\n",
    "            target_transform : function\n",
    "                funções de transformação que podem ser aplicadas nas labels\n",
    "\n",
    "        \"\"\"\n",
    "        self.img_labels = pd.read_csv(annotations_file)\n",
    "        self.img_dir = img_dir\n",
    "        self.transform = transform\n",
    "        self.target_transform = target_transform\n",
    "\n",
    "    def __len__(self):\n",
    "        return len(self.img_labels)\n",
    "\n",
    "    def __getitem__(self, idx):\n",
    "        img_path = os.path.join(self.img_dir, self.img_labels.iloc[idx, 0]) # pega o endereço de uma única imagem\n",
    "        image = read_image(img_path) # transforma essa imagem em tensor\n",
    "        label = self.img_labels.iloc[idx, 1] # pega a label dessa imagem\n",
    "        # Se houverem transformações a serem apliacadas, aplicá-las\n",
    "        if self.transform:\n",
    "            image = self.transform(image)\n",
    "        if self.target_transform:\n",
    "            label = self.target_transform(label)\n",
    "        return image, label"
   ]
  },
  {
   "cell_type": "markdown",
   "metadata": {},
   "source": [
    "## 🧠 Construíndo as redes neurais 🧠\n",
    "\n",
    "Redes neurais são basicamente compostas por diversas camadas, cada uma com um tipo de operação. O módulo `torch.nn` possui todos os blocos que precisamos para a construção dessas redes. Todas as redes neurias no PyTorch são filhos da classe `nn.Module`, por isso precisamos que nossa rede dependa dele."
   ]
  },
  {
   "cell_type": "code",
   "execution_count": 23,
   "metadata": {},
   "outputs": [],
   "source": [
    "from torch import nn"
   ]
  },
  {
   "cell_type": "code",
   "execution_count": 25,
   "metadata": {},
   "outputs": [
    {
     "name": "stdout",
     "output_type": "stream",
     "text": [
      "Usando cpu\n"
     ]
    }
   ],
   "source": [
    "# Fazer o processamento em uma GPU caso seja possível\n",
    "device = 'cuda' if torch.cuda.is_available() else 'cpu'\n",
    "print(f'Usando {device}')"
   ]
  },
  {
   "cell_type": "markdown",
   "metadata": {},
   "source": [
    "### Layers mais usados\n",
    "\n",
    "Vamos fazer um exemplo com um minibatch de 3 \"imagens\" feitas de pontos aleatório e ver como seriam as etapas de cada camada de uma rede neural de maneira individual, para que depois possamos juntá-los em uma rede só.\n",
    "\n",
    "**Dados de entrada**:"
   ]
  },
  {
   "cell_type": "code",
   "execution_count": 46,
   "metadata": {},
   "outputs": [
    {
     "name": "stdout",
     "output_type": "stream",
     "text": [
      "A dimensão da entrada é : torch.Size([3, 28, 28])\n"
     ]
    },
    {
     "data": {
      "image/png": "[encoded data removed]",
      "text/plain": [
       "<Figure size 576x576 with 3 Axes>"
      ]
     },
     "metadata": {
      "needs_background": "light"
     },
     "output_type": "display_data"
    }
   ],
   "source": [
    "input_image = torch.randn((3,28,28))\n",
    "print(f\"A dimensão da entrada é : {input_image.size()}\")\n",
    "\n",
    "# Para mostrar as \"imagens\"\n",
    "figure = plt.figure(figsize=(8, 8))\n",
    "cols, rows = 3, 1\n",
    "for i in range(1,4):\n",
    "    img = input_image[i-1]\n",
    "    figure.add_subplot(rows, cols, i)\n",
    "    plt.axis(\"off\")\n",
    "    plt.imshow(img.squeeze(), cmap=\"gray\")\n",
    "plt.show()"
   ]
  },
  {
   "cell_type": "markdown",
   "metadata": {},
   "source": [
    "**Camada de achatamento**\n",
    "\n",
    "A camada de ``nn.Flatten`` converte imagens 2D em um único vetor. No caso, uma imagem de 28x28 se torna um vetor de 784 elementos, em que cada elmento é um pixel."
   ]
  },
  {
   "cell_type": "code",
   "execution_count": 47,
   "metadata": {},
   "outputs": [
    {
     "name": "stdout",
     "output_type": "stream",
     "text": [
      "Dimensão das imagens achtadas torch.Size([3, 784])\n"
     ]
    }
   ],
   "source": [
    "flatten = nn.Flatten()\n",
    "flat_image = flatten(input_image)\n",
    "print(f\"Dimensão das imagens achtadas {flat_image.size()}\")"
   ]
  },
  {
   "cell_type": "markdown",
   "metadata": {},
   "source": [
    "**Camada Linear**\n",
    "\n",
    "A camada linear é onde aplicamos as operações entre os pesos (weights), bias e dados. Possui esse nome porque essa operação é uma \"Transformação linear\": $W \\cdot X + b$, repare como esse formato lembra da \"equação linear\" que aprendemos na escola. "
   ]
  },
  {
   "cell_type": "code",
   "execution_count": 48,
   "metadata": {},
   "outputs": [
    {
     "name": "stdout",
     "output_type": "stream",
     "text": [
      "Dimensão da imagem depois de ter passado pela primeira camada: torch.Size([3, 20])\n"
     ]
    }
   ],
   "source": [
    "layer1 = nn.Linear(in_features=28*28, out_features=20) # Aqui definimos qual a dimensão da entrada e qual será a dimensão da saída\n",
    "hidden1 = layer1(flat_image) # Passamos nossa imagem achatada para a camada\n",
    "print(f\"Dimensão da imagem depois de ter passado pela primeira camada: {hidden1.size()}\")"
   ]
  },
  {
   "cell_type": "markdown",
   "metadata": {},
   "source": [
    "**Camada de Ativação**\n",
    "\n",
    "**A função de ativação retificadora linear** (*Rectified Linear Activation Function*) - ReL \n",
    "\n",
    "Para conseguirmos passar um sinal para a próxima camada, necessitamos de funções de ativação. Duas funções comuns são as [sigmoid](https://en.wikipedia.org/wiki/Sigmoid_function) e [tangente hiperbólica](https://mathworld.wolfram.com/HyperbolicTangent.html), ambas funções não lineares, uma propriedade que ajuda nosso modelo a compreender funções mais complexas. Porém, como elas são funções com limites bem estabelecidos, elas acabam \"saturando\" suas saídas, sendo sensíveis apenas para seus valores intermediários. A solução é utilizar a função de ativação retificadora linear (ReL) nos *hidden layers*. Dizemos que um nó (ou neurônio) com essa função de ativação é uma unidade de ativação retificadora linear (ReLU)\n",
    "\n",
    "$$\n",
    "f(x) = \\begin{cases}\n",
    "    x & \\text{se } x > 0, \\\\\n",
    "    0 & \\text{caso contrário}.\n",
    "\\end{cases}\n",
    "$$\n",
    "\n",
    "![Funções de Ativação](https://external-content.duckduckgo.com/iu/?u=https%3A%2F%2Fcdn-images-1.medium.com%2Fmax%2F1200%2F1*ZafDv3VUm60Eh10OeJu1vw.png&f=1&nofb=1)"
   ]
  },
  {
   "cell_type": "code",
   "execution_count": 49,
   "metadata": {},
   "outputs": [
    {
     "name": "stdout",
     "output_type": "stream",
     "text": [
      "Antes do ReLU: tensor([[ 0.4115,  0.2556, -0.8706,  0.2694,  1.1218,  1.1283,  0.0394,  0.2414,\n",
      "         -1.2277,  0.2783,  0.1270,  0.2232, -0.5999,  0.5526,  0.6389,  0.9313,\n",
      "          0.0566, -0.8101,  0.8604,  0.0730],\n",
      "        [ 0.2263,  0.9847,  0.5956, -0.0978,  0.7770, -0.4630, -0.2834, -0.2654,\n",
      "          0.1249,  1.4165, -0.1635,  0.0968, -0.2180, -0.6618, -0.8552,  0.2779,\n",
      "          0.2028,  0.0032, -0.0607, -0.2144],\n",
      "        [ 0.9644,  0.2332, -0.5560,  0.8772, -0.6845,  0.0557, -1.0827,  0.1905,\n",
      "         -0.2625,  0.7389,  0.8003, -0.3916,  0.6638, -0.1815, -0.9949,  0.7081,\n",
      "         -0.1485,  0.6466,  0.7466,  0.3837]], grad_fn=<AddmmBackward0>)\n",
      "\n",
      "\n",
      "Depois ReLU: tensor([[0.4115, 0.2556, 0.0000, 0.2694, 1.1218, 1.1283, 0.0394, 0.2414, 0.0000,\n",
      "         0.2783, 0.1270, 0.2232, 0.0000, 0.5526, 0.6389, 0.9313, 0.0566, 0.0000,\n",
      "         0.8604, 0.0730],\n",
      "        [0.2263, 0.9847, 0.5956, 0.0000, 0.7770, 0.0000, 0.0000, 0.0000, 0.1249,\n",
      "         1.4165, 0.0000, 0.0968, 0.0000, 0.0000, 0.0000, 0.2779, 0.2028, 0.0032,\n",
      "         0.0000, 0.0000],\n",
      "        [0.9644, 0.2332, 0.0000, 0.8772, 0.0000, 0.0557, 0.0000, 0.1905, 0.0000,\n",
      "         0.7389, 0.8003, 0.0000, 0.6638, 0.0000, 0.0000, 0.7081, 0.0000, 0.6466,\n",
      "         0.7466, 0.3837]], grad_fn=<ReluBackward0>)\n"
     ]
    }
   ],
   "source": [
    "print(f\"Antes do ReLU: {hidden1}\\n\\n\")\n",
    "activation1 = nn.ReLU()\n",
    "hidden1 = activation1(hidden1)\n",
    "print(f\"Depois ReLU: {hidden1}\")"
   ]
  },
  {
   "cell_type": "markdown",
   "metadata": {},
   "source": [
    "**Juntando todas as camadas sequencialmente**\n",
    "\n",
    "o ``nn.Sequential`` é uma espécied de container de módulos. Os dados são passados para ele na mesma ordem que definimos, ele server para simplificar a criação das redes neurais. Vamos criar um exemplo com as camadas que fizemos até agora:  "
   ]
  },
  {
   "cell_type": "code",
   "execution_count": 52,
   "metadata": {},
   "outputs": [
    {
     "data": {
      "text/plain": [
       "tensor([[ 0.1046, -0.0554,  0.1782,  0.1860, -0.0353, -0.1781,  0.3719, -0.3159,\n",
       "         -0.1636, -0.0839],\n",
       "        [ 0.2950, -0.0565,  0.0369,  0.1780, -0.1817,  0.0331,  0.3402, -0.1474,\n",
       "         -0.1175,  0.0744],\n",
       "        [ 0.3055,  0.0135,  0.1679,  0.0974,  0.0689, -0.2309,  0.3335, -0.3442,\n",
       "         -0.1182, -0.0206]], grad_fn=<AddmmBackward0>)"
      ]
     },
     "execution_count": 52,
     "metadata": {},
     "output_type": "execute_result"
    }
   ],
   "source": [
    "seq_modules = nn.Sequential(\n",
    "    flatten,\n",
    "    layer1,\n",
    "    nn.ReLU(),\n",
    "    nn.Linear(20, 10)\n",
    ")\n",
    "input_image = torch.rand(3,28,28) # batch de 3 imagens de entrada\n",
    "logits = seq_modules(input_image) # Valores de saída são \"logits\", valores qeu relacionam probabilidades com numeros reais\n",
    "logits"
   ]
  },
  {
   "cell_type": "markdown",
   "metadata": {},
   "source": [
    "**Função ``nn.Softamx``**\n",
    "\n",
    "Como a última camada retorna \"logits\", podemos passá-los por uma função chamada **Softmax** que transforma esses números reais em valores de probabilidades (valores entre 0 ou 1). Mostrando qual a categoria mais provável para aquela imagem."
   ]
  },
  {
   "cell_type": "code",
   "execution_count": 53,
   "metadata": {},
   "outputs": [
    {
     "data": {
      "text/plain": [
       "tensor([[0.1088, 0.0927, 0.1171, 0.1180, 0.0946, 0.0820, 0.1421, 0.0714, 0.0832,\n",
       "         0.0901],\n",
       "        [0.1264, 0.0890, 0.0977, 0.1125, 0.0785, 0.0973, 0.1323, 0.0812, 0.0837,\n",
       "         0.1014],\n",
       "        [0.1293, 0.0966, 0.1127, 0.1050, 0.1021, 0.0756, 0.1330, 0.0675, 0.0847,\n",
       "         0.0933]], grad_fn=<SoftmaxBackward0>)"
      ]
     },
     "execution_count": 53,
     "metadata": {},
     "output_type": "execute_result"
    }
   ],
   "source": [
    "softmax = nn.Softmax(dim=1)\n",
    "pred_probabilities = softmax(logits)\n",
    "pred_probabilities"
   ]
  },
  {
   "cell_type": "markdown",
   "metadata": {},
   "source": [
    "### A rede neural\n",
    "\n",
    "Agora que você conhece todos os blocos da rede, podemos juntá-los para criar a rede neural! Para isso ciramos uma classe que é inicializada no método ``__init__`` com os elementos da rede. De maneira similar às classes do ``Dataloader``, qualquer filho do módulo ``nn.Module`` (ou seja, qualquer rede neural que criarmos no PyTorch), precisa de um método ``forward``, o método que passa os dados pela rede neural."
   ]
  },
  {
   "cell_type": "code",
   "execution_count": 54,
   "metadata": {},
   "outputs": [],
   "source": [
    "class NeuralNetwork(nn.Module):\n",
    "    def __init__(self):\n",
    "        super(NeuralNetwork, self).__init__() # Herda os atributos do nn.Module do pytorch\n",
    "        self.flatten = nn.Flatten() # Define o método de achatar imagens\n",
    "        self.nn = nn.Sequential(   # Inicia o container de camadas\n",
    "            nn.Linear(28*28, 512), # camada linear com 784 entradas e 512 saídas\n",
    "            nn.ReLU(),             # unidade de ativação\n",
    "            nn.Linear(512, 512),   # camada linear de 512 entradas e 512 saídas\n",
    "            nn.ReLU(),             # unidade de ativação\n",
    "            nn.Linear(512, 10),    # última camada linear com 512 entradas e 10 saídas \n",
    "        )\n",
    "\n",
    "    def forward(self, x):    # método que passa os dados para a rede neural\n",
    "        x = self.flatten(x)  # achata as imagens para uma dimensão\n",
    "        logits = self.nn(x)  # pasas os dados pela rede, retornando 10 logits\n",
    "        return logits"
   ]
  },
  {
   "cell_type": "markdown",
   "metadata": {},
   "source": [
    "### Treinando a rede neural\n",
    "\n",
    "Vamos agora para a parte mais importante das redes neurais, treiná-las! Para isso vamos usar os dados de treino e teste que já preparamos antes ``train_dataloader`` e ``test_dataloader``. Vamos também inicializar a nossa classe de rede neural no objeto ``model``."
   ]
  },
  {
   "cell_type": "code",
   "execution_count": 55,
   "metadata": {},
   "outputs": [],
   "source": [
    "model = NeuralNetwork()"
   ]
  },
  {
   "cell_type": "markdown",
   "metadata": {},
   "source": [
    "#### Hiperparâmetros\n",
    "\n",
    "São parâmetros que são ajustáveis e permitem que possámos controlar o modelo. Tipos diferentes de hiperparâmetros podem ter grandes efeitos no modelo. No nosso caso, vamos ter 3:\n",
    " - Número de epochs: número de vezes que nosso modelo vai **passar por todo o dataset**\n",
    " - Tamanho do batch: número de **amostras do nosso dataset** passadas pro modelo antes de atualizar seus parâmetros\n",
    " - Learning Rate: O quanto nosso modelo vai **atualizar seus parâmetros**."
   ]
  },
  {
   "cell_type": "code",
   "execution_count": 59,
   "metadata": {},
   "outputs": [],
   "source": [
    "learning_rate = 1e-3\n",
    "batch_size = 64\n",
    "epochs = 10"
   ]
  },
  {
   "cell_type": "markdown",
   "metadata": {},
   "source": [
    "#### Função de perda (loss)\n",
    "\n",
    "Quando nosso modelo está aprendendo ele não sabe a resposta certa. A **função de perda (loss)** é um meio de medir o quão certo ou errado nosso modelo estava da predição desejada, e é esse valor que queremos minimizar durante o treinamento (ou seja, que ele tenha o menor erro possível). Para computar esse erro, passamos o valor predito por nosso modelo e o valor alvo e calculamos essa diferença de algum modo.\n",
    "\n",
    "Existem diferentes tipos de calcular o erro do modelo. Algumas funções comuns são [`nn.MSELoss`](https://pytorch.org/docs/stable/generated/torch.nn.MSELoss.html#torch.nn.MSELoss) (Mean Squared Error) para regressões, [`nn.NNLoss`](https://pytorch.org/docs/stable/generated/torch.nn.NLLLoss.html#torch.nn.NLLLoss) (Negative Log Likelihood) para classificações e [`nn.CrossEntropyLoss`](https://pytorch.org/docs/stable/generated/torch.nn.CrossEntropyLoss.html#torch.nn.CrossEntropyLoss) que combina a função `nn.LogSoftmax` com o `nn.NNLoss`.\n",
    "\n",
    "Para nosso modelo, iremos usar a ``nn.CrossEntropyLoss` já que já normaliza nossos logits em valores de probabilidade e calcula uma loss comum em tarefas de classificação."
   ]
  },
  {
   "cell_type": "code",
   "execution_count": 63,
   "metadata": {},
   "outputs": [],
   "source": [
    "loss = nn.CrossEntropyLoss()"
   ]
  },
  {
   "cell_type": "markdown",
   "metadata": {},
   "source": [
    "#### Otimizador\n",
    "\n",
    "Com nossa função de perda definida, temos que definir agora qual técnica utilizaremos para chegar reduzir o erro em cada passo de treino. Existem [diferentes tipos de algoritmos de otimização](https://pytorch.org/docs/stable/optim.html) para redes neurais, sendo o **SGD** (Stocastic Gradient Descent) o mais simples e o que vamos utilizar para nosso modelo. Alguns menções de algoritmos que usamos bastante também é o ADAM e o RMSProp, que podem funcionar melhor dependendo do seu tipo de modelo."
   ]
  },
  {
   "cell_type": "code",
   "execution_count": 60,
   "metadata": {},
   "outputs": [],
   "source": [
    "optimizer = torch.optim.SGD(model.parameters(), lr=learning_rate) # Passamos os parâmetros do nosso modelo e o leraning rate"
   ]
  },
  {
   "cell_type": "markdown",
   "metadata": {},
   "source": [
    "Quando formos fazer nosso loop de treinamento, geralmente o passo de otimização é realizado vom 3 passos:\n",
    " - Chamar ``optimizer.zero_grad()`` para resetar os gradientes dos parâmetros do modelo. Gradientes por padrão se somam, para evitar que sejam contados duas vezes em treinamentos diferentes, nos explicitamente zeremos eles a cada iteração.\n",
    " - Faz a backpropagation da loss com ```loss.backwards()``. O autograd do PyTorch automaticamente depoisita os gradientes em relação a cada parâmetro. \n",
    " - Com os gradientes calculados, podemos usar ``optimizer.setp()`` para ajustar os parâmetros dos gradientes coletados em cada passo anterior.  "
   ]
  },
  {
   "cell_type": "markdown",
   "metadata": {},
   "source": [
    "#### Loop de otimização\n",
    "Com nossos hiperparâmetros e otimizador prontos, podemos nos preparar par definir o loop de treino. Cada iteração desse loop de otimiação é chamado de **epoch**. O epoch consiste de duas partes principais\n",
    "- **O loop de treino**: itera sobre o dataset de treino, tentando convergir os parâmetros para o melhor possível.\n",
    "- **O loop de teste**: itera sobre o dataset de teste para checar como o modelo está se saindo. "
   ]
  },
  {
   "cell_type": "code",
   "execution_count": 61,
   "metadata": {},
   "outputs": [],
   "source": [
    "def train_loop(dataloader, model, loss_fn, optimizer):\n",
    "    \"\"\"\n",
    "    Loop de treino do modelo\n",
    "\n",
    "    Parâmetros\n",
    "    ----------\n",
    "        dataloader: dataloader do nosso dataset de treino definido anteriormente\n",
    "        model: objeto com o modelo da nossa rede neural\n",
    "        loss_fn: nossa função de perda\n",
    "        optimizer: o otimizador definido\n",
    "    \"\"\"\n",
    "    size = len(dataloader.dataset) # pega o tamanho do dataset\n",
    "    for batch, (X, y) in enumerate(dataloader):\n",
    "        # Computa a predição do modelo e a loss\n",
    "        pred = model(X)\n",
    "        loss = loss_fn(pred, y)\n",
    "\n",
    "        # Backpropagation\n",
    "        optimizer.zero_grad()\n",
    "        loss.backward()\n",
    "        optimizer.step()\n",
    "\n",
    "        # A cada 100 treinos printamos as métricas\n",
    "        if batch % 100 == 0:\n",
    "            loss, current = loss.item(), batch * len(X)\n",
    "            print(f\"loss: {loss:>7f}  [{current:>5d}/{size:>5d}]\")\n",
    "\n",
    "\n",
    "def test_loop(dataloader, model, loss_fn):\n",
    "    \"\"\"\n",
    "    Loop de teste do modelo\n",
    "\n",
    "    Parâmetros\n",
    "    ----------\n",
    "        dataloader: dataloader do nosso dataset de teste definido anteriormente\n",
    "        model: objeto com o modelo da nossa rede neural\n",
    "        loss_fn: nossa função de perda\n",
    "    \"\"\"\n",
    "    size = len(dataloader.dataset)\n",
    "    num_batches = len(dataloader)\n",
    "    test_loss, correct = 0, 0\n",
    "\n",
    "    # Como não vamos otimizar nada, não vamos acompanhar os gradientes\n",
    "    with torch.no_grad():\n",
    "        for X, y in dataloader:\n",
    "            pred = model(X)  # computa a predição do modelo\n",
    "            test_loss += loss_fn(pred, y).item() # loss dessa predição\n",
    "            correct += (pred.argmax(1) == y).type(torch.float).sum().item() # quantas vezes nosso modelo acertou a predição\n",
    "\n",
    "    test_loss /= num_batches\n",
    "    correct /= size\n",
    "    print(f\"Erros do teste: \\n Acurácia: {(100*correct):>0.1f}%, loss média: {test_loss:>8f} \\n\")"
   ]
  },
  {
   "cell_type": "markdown",
   "metadata": {},
   "source": [
    "Podemos finalmente treinar nosso modelo!"
   ]
  },
  {
   "cell_type": "code",
   "execution_count": 64,
   "metadata": {},
   "outputs": [
    {
     "name": "stdout",
     "output_type": "stream",
     "text": [
      "Epoch 1\n",
      "-------------------------------\n",
      "loss: 2.316973  [    0/60000]\n",
      "loss: 2.290478  [ 6400/60000]\n",
      "loss: 2.274734  [12800/60000]\n",
      "loss: 2.272502  [19200/60000]\n",
      "loss: 2.247754  [25600/60000]\n",
      "loss: 2.235265  [32000/60000]\n",
      "loss: 2.210061  [38400/60000]\n",
      "loss: 2.212445  [44800/60000]\n",
      "loss: 2.200044  [51200/60000]\n",
      "loss: 2.171118  [57600/60000]\n",
      "Erros do teste: \n",
      " Acurácia: 50.2%, loss média: 2.162082 \n",
      "\n",
      "Epoch 2\n",
      "-------------------------------\n",
      "loss: 2.164433  [    0/60000]\n",
      "loss: 2.122852  [ 6400/60000]\n",
      "loss: 2.118275  [12800/60000]\n",
      "loss: 2.107344  [19200/60000]\n",
      "loss: 2.099148  [25600/60000]\n",
      "loss: 2.047626  [32000/60000]\n",
      "loss: 2.048032  [38400/60000]\n",
      "loss: 2.007643  [44800/60000]\n",
      "loss: 1.985959  [51200/60000]\n",
      "loss: 1.933286  [57600/60000]\n",
      "Erros do teste: \n",
      " Acurácia: 58.5%, loss média: 1.899416 \n",
      "\n",
      "Epoch 3\n",
      "-------------------------------\n",
      "loss: 1.906189  [    0/60000]\n",
      "loss: 1.863928  [ 6400/60000]\n",
      "loss: 1.800094  [12800/60000]\n",
      "loss: 1.816901  [19200/60000]\n",
      "loss: 1.829520  [25600/60000]\n",
      "loss: 1.653467  [32000/60000]\n",
      "loss: 1.616803  [38400/60000]\n",
      "loss: 1.584191  [44800/60000]\n",
      "loss: 1.624882  [51200/60000]\n",
      "loss: 1.497949  [57600/60000]\n",
      "Erros do teste: \n",
      " Acurácia: 61.9%, loss média: 1.528651 \n",
      "\n",
      "Epoch 4\n",
      "-------------------------------\n",
      "loss: 1.540566  [    0/60000]\n",
      "loss: 1.543446  [ 6400/60000]\n",
      "loss: 1.479213  [12800/60000]\n",
      "loss: 1.456568  [19200/60000]\n",
      "loss: 1.391009  [25600/60000]\n",
      "loss: 1.397671  [32000/60000]\n",
      "loss: 1.450562  [38400/60000]\n",
      "loss: 1.321482  [44800/60000]\n",
      "loss: 1.341818  [51200/60000]\n",
      "loss: 1.167561  [57600/60000]\n",
      "Erros do teste: \n",
      " Acurácia: 63.1%, loss média: 1.255241 \n",
      "\n",
      "Epoch 5\n",
      "-------------------------------\n",
      "loss: 1.138360  [    0/60000]\n",
      "loss: 1.178588  [ 6400/60000]\n",
      "loss: 1.129084  [12800/60000]\n",
      "loss: 1.185442  [19200/60000]\n",
      "loss: 1.226435  [25600/60000]\n",
      "loss: 1.027054  [32000/60000]\n",
      "loss: 1.116593  [38400/60000]\n",
      "loss: 1.231451  [44800/60000]\n",
      "loss: 1.051286  [51200/60000]\n",
      "loss: 1.198424  [57600/60000]\n",
      "Erros do teste: \n",
      " Acurácia: 65.3%, loss média: 1.085909 \n",
      "\n",
      "Epoch 6\n",
      "-------------------------------\n",
      "loss: 1.075972  [    0/60000]\n",
      "loss: 1.118338  [ 6400/60000]\n",
      "loss: 1.025630  [12800/60000]\n",
      "loss: 0.995717  [19200/60000]\n",
      "loss: 1.118411  [25600/60000]\n",
      "loss: 1.047639  [32000/60000]\n",
      "loss: 1.186839  [38400/60000]\n",
      "loss: 0.964036  [44800/60000]\n",
      "loss: 0.989074  [51200/60000]\n",
      "loss: 0.893358  [57600/60000]\n",
      "Erros do teste: \n",
      " Acurácia: 65.1%, loss média: 0.976262 \n",
      "\n",
      "Epoch 7\n",
      "-------------------------------\n",
      "loss: 0.984647  [    0/60000]\n",
      "loss: 0.997382  [ 6400/60000]\n",
      "loss: 0.979170  [12800/60000]\n",
      "loss: 1.069329  [19200/60000]\n",
      "loss: 0.892701  [25600/60000]\n",
      "loss: 0.912712  [32000/60000]\n",
      "loss: 0.789856  [38400/60000]\n",
      "loss: 0.856290  [44800/60000]\n",
      "loss: 0.836927  [51200/60000]\n",
      "loss: 0.835286  [57600/60000]\n",
      "Erros do teste: \n",
      " Acurácia: 67.4%, loss média: 0.902027 \n",
      "\n",
      "Epoch 8\n",
      "-------------------------------\n",
      "loss: 0.779284  [    0/60000]\n",
      "loss: 0.831043  [ 6400/60000]\n",
      "loss: 0.893974  [12800/60000]\n",
      "loss: 0.848327  [19200/60000]\n",
      "loss: 0.991856  [25600/60000]\n",
      "loss: 0.804841  [32000/60000]\n",
      "loss: 0.936489  [38400/60000]\n",
      "loss: 0.799256  [44800/60000]\n",
      "loss: 0.896735  [51200/60000]\n",
      "loss: 0.936210  [57600/60000]\n",
      "Erros do teste: \n",
      " Acurácia: 68.3%, loss média: 0.850482 \n",
      "\n",
      "Epoch 9\n",
      "-------------------------------\n",
      "loss: 0.802155  [    0/60000]\n",
      "loss: 0.804333  [ 6400/60000]\n",
      "loss: 0.859349  [12800/60000]\n",
      "loss: 0.826717  [19200/60000]\n",
      "loss: 0.654359  [25600/60000]\n",
      "loss: 0.811820  [32000/60000]\n",
      "loss: 1.021777  [38400/60000]\n",
      "loss: 0.919691  [44800/60000]\n",
      "loss: 0.685644  [51200/60000]\n",
      "loss: 0.754841  [57600/60000]\n",
      "Erros do teste: \n",
      " Acurácia: 69.7%, loss média: 0.809164 \n",
      "\n",
      "Epoch 10\n",
      "-------------------------------\n",
      "loss: 0.622860  [    0/60000]\n",
      "loss: 0.795750  [ 6400/60000]\n",
      "loss: 0.972635  [12800/60000]\n",
      "loss: 0.682356  [19200/60000]\n",
      "loss: 0.880640  [25600/60000]\n",
      "loss: 0.742320  [32000/60000]\n",
      "loss: 0.548889  [38400/60000]\n",
      "loss: 0.558060  [44800/60000]\n",
      "loss: 0.797837  [51200/60000]\n",
      "loss: 1.039415  [57600/60000]\n",
      "Erros do teste: \n",
      " Acurácia: 71.3%, loss média: 0.778868 \n",
      "\n",
      "Acabou!\n"
     ]
    }
   ],
   "source": [
    "for t in range(epochs):\n",
    "    print(f\"Epoch {t+1}\\n-------------------------------\")\n",
    "    train_loop(train_dataloader, model, loss, optimizer)\n",
    "    test_loop(test_dataloader, model, loss)\n",
    "print(\"Acabou!\")"
   ]
  },
  {
   "cell_type": "markdown",
   "metadata": {},
   "source": [
    "### Brincando com o modelo\n",
    "Eu fiz uns desenhos toscos e vou ver como o modelo classifica eles"
   ]
  },
  {
   "cell_type": "code",
   "execution_count": 93,
   "metadata": {},
   "outputs": [
    {
     "data": {
      "image/png": "[encoded data removed]",
      "text/plain": [
       "<Figure size 576x576 with 9 Axes>"
      ]
     },
     "metadata": {
      "needs_background": "light"
     },
     "output_type": "display_data"
    }
   ],
   "source": [
    "from torchvision.io import ImageReadMode\n",
    "\n",
    "custom = []\n",
    "for i in range(1,10):\n",
    "    path = \"./desenhos/cam_\" + str(i) + \".png\"\n",
    "    img = read_image(path, ImageReadMode.GRAY)\n",
    "    custom.append(img)\n",
    "\n",
    "def predict(img):\n",
    "    return labels_map[torch.argmax(model(img/255)).item()]\n",
    "\n",
    "figure = plt.figure(figsize=(8, 8))\n",
    "cols, rows = 3, 3\n",
    "for i in range(1, 10):\n",
    "    img = custom[i-1]\n",
    "    label = predict(img)\n",
    "    figure.add_subplot(rows, cols, i)\n",
    "    plt.title(label)\n",
    "    plt.axis(\"off\")\n",
    "    plt.imshow(img.squeeze(), cmap=\"gray\")\n",
    "plt.show()"
   ]
  },
  {
   "cell_type": "markdown",
   "metadata": {},
   "source": [
    "### Código Completo da Seção"
   ]
  },
  {
   "cell_type": "code",
   "execution_count": null,
   "metadata": {},
   "outputs": [],
   "source": [
    "import torch\n",
    "from torch import nn\n",
    "from torch.utils.data import DataLoader\n",
    "from torchvision import datasets\n",
    "from torchvision.transforms import ToTensor\n",
    "\n",
    "training_data = datasets.FashionMNIST(\n",
    "    root=\"data\",\n",
    "    train=True,\n",
    "    download=True,\n",
    "    transform=ToTensor()\n",
    ")\n",
    "\n",
    "test_data = datasets.FashionMNIST(\n",
    "    root=\"data\",\n",
    "    train=False,\n",
    "    download=True,\n",
    "    transform=ToTensor()\n",
    ")\n",
    "\n",
    "class NeuralNetwork(nn.Module):\n",
    "    def __init__(self):\n",
    "        super(NeuralNetwork, self).__init__()\n",
    "        self.flatten = nn.Flatten()\n",
    "        self.linear_relu_stack = nn.Sequential(\n",
    "            nn.Linear(28*28, 512),\n",
    "            nn.ReLU(),\n",
    "            nn.Linear(512, 512),\n",
    "            nn.ReLU(),\n",
    "            nn.Linear(512, 10),\n",
    "        )\n",
    "\n",
    "    def forward(self, x):\n",
    "        x = self.flatten(x)\n",
    "        logits = self.linear_relu_stack(x)\n",
    "        return logits\n",
    "\n",
    "def train_loop(dataloader, model, loss_fn, optimizer):\n",
    "    size = len(dataloader.dataset)\n",
    "    for batch, (X, y) in enumerate(dataloader):\n",
    "        # Compute prediction and loss\n",
    "        pred = model(X)\n",
    "        loss = loss_fn(pred, y)\n",
    "\n",
    "        # Backpropagation\n",
    "        optimizer.zero_grad()\n",
    "        loss.backward()\n",
    "        optimizer.step()\n",
    "\n",
    "        if batch % 100 == 0:\n",
    "            loss, current = loss.item(), batch * len(X)\n",
    "            print(f\"loss: {loss:>7f}  [{current:>5d}/{size:>5d}]\")\n",
    "\n",
    "\n",
    "def test_loop(dataloader, model, loss_fn):\n",
    "    size = len(dataloader.dataset)\n",
    "    num_batches = len(dataloader)\n",
    "    test_loss, correct = 0, 0\n",
    "\n",
    "    with torch.no_grad():\n",
    "        for X, y in dataloader:\n",
    "            pred = model(X)\n",
    "            test_loss += loss_fn(pred, y).item()\n",
    "            correct += (pred.argmax(1) == y).type(torch.float).sum().item()\n",
    "\n",
    "    test_loss /= num_batches\n",
    "    correct /= size\n",
    "    print(f\"Test Error: \\n Accuracy: {(100*correct):>0.1f}%, Avg loss: {test_loss:>8f} \\n\")\n",
    "\n",
    "model = NeuralNetwork()\n",
    "\n",
    "train_dataloader = DataLoader(training_data, batch_size=64)\n",
    "test_dataloader = DataLoader(test_data, batch_size=64)\n",
    "\n",
    "learning_rate = 1e-3\n",
    "batch_size = 64\n",
    "epochs = 10\n",
    "\n",
    "loss_fn = nn.CrossEntropyLoss()\n",
    "optimizer = torch.optim.SGD(model.parameters(), lr=learning_rate)\n",
    "\n",
    "for t in range(epochs):\n",
    "    print(f\"Epoch {t+1}\\n-------------------------------\")\n",
    "    train_loop(train_dataloader, model, loss_fn, optimizer)\n",
    "    test_loop(test_dataloader, model, loss_fn)\n",
    "print(\"Done!\")"
   ]
  },
  {
   "cell_type": "markdown",
   "metadata": {},
   "source": [
    "## 📝Recomendação de exercícios\n",
    "- 🔢 Um data set com [números desenhados a mão](https://www.kaggle.com/c/digit-recognizer) (MNIST clássico), para treinar os básicos\n",
    "- 🦘 Um dataset que utiliza csv, [predição de chuvas na australia](https://www.kaggle.com/jsphyg/weather-dataset-rattle-package)\n",
    "- 🐟 Um dataset de [imagens de peixes](https://www.kaggle.com/crowww/a-large-scale-fish-dataset), para treinar criar datasets/dataloaders\n",
    "- 🦠 Um data set de [Tweets sobre o coronavirus ](https://www.kaggle.com/datatattle/covid-19-nlp-text-classification), para treinar classificação de texto "
   ]
  }
 ],
 "metadata": {
  "interpreter": {
   "hash": "fe7cbed4bc17059f1642dccf61018811625bb91516f85815cc0235fd6d517ea8"
  },
  "kernelspec": {
   "display_name": "Python 3.8.12 64-bit ('py38': conda)",
   "language": "python",
   "name": "python3"
  },
  "language_info": {
   "codemirror_mode": {
    "name": "ipython",
    "version": 3
   },
   "file_extension": ".py",
   "mimetype": "text/x-python",
   "name": "python",
   "nbconvert_exporter": "python",
   "pygments_lexer": "ipython3",
   "version": "3.8.12"
  },
  "orig_nbformat": 4
 },
 "nbformat": 4,
 "nbformat_minor": 2
}
